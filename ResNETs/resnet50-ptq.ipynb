{
 "cells": [
  {
   "cell_type": "code",
   "execution_count": 1,
   "id": "2b51e40b",
   "metadata": {
    "_cell_guid": "b1076dfc-b9ad-4769-8c92-a6c4dae69d19",
    "_uuid": "8f2839f25d086af736a60e9eeb907d3b93b6e0e5",
    "execution": {
     "iopub.execute_input": "2025-08-30T06:42:47.784252Z",
     "iopub.status.busy": "2025-08-30T06:42:47.783812Z",
     "iopub.status.idle": "2025-08-30T06:42:57.065607Z",
     "shell.execute_reply": "2025-08-30T06:42:57.064471Z"
    },
    "papermill": {
     "duration": 9.286558,
     "end_time": "2025-08-30T06:42:57.066957",
     "exception": false,
     "start_time": "2025-08-30T06:42:47.780399",
     "status": "completed"
    },
    "tags": []
   },
   "outputs": [
    {
     "name": "stdout",
     "output_type": "stream",
     "text": [
      "Using device: cuda:0\n"
     ]
    }
   ],
   "source": [
    "import os\n",
    "os.environ['KMP_DUPLICATE_LIB_OK']='True'\n",
    "\n",
    "import torch\n",
    "import torch.nn as nn\n",
    "import torch.optim as optim\n",
    "import torchvision\n",
    "import torchvision.transforms as transforms\n",
    "from torchvision.models.resnet import ResNet, Bottleneck\n",
    "from torch.quantization import fuse_modules, get_default_qconfig, prepare, convert\n",
    "\n",
    "import os\n",
    "import copy\n",
    "from tqdm import tqdm\n",
    "import time\n",
    "import numpy as np\n",
    "import matplotlib.pyplot as plt\n",
    "\n",
    "# Setup device\n",
    "device = torch.device(\"cuda:0\" if torch.cuda.is_available() else \"cpu\")\n",
    "print(f\"Using device: {device}\")"
   ]
  },
  {
   "cell_type": "code",
   "execution_count": 2,
   "id": "79ada015",
   "metadata": {
    "execution": {
     "iopub.execute_input": "2025-08-30T06:42:57.072128Z",
     "iopub.status.busy": "2025-08-30T06:42:57.071456Z",
     "iopub.status.idle": "2025-08-30T06:43:05.175073Z",
     "shell.execute_reply": "2025-08-30T06:43:05.174220Z"
    },
    "papermill": {
     "duration": 8.107454,
     "end_time": "2025-08-30T06:43:05.176651",
     "exception": false,
     "start_time": "2025-08-30T06:42:57.069197",
     "status": "completed"
    },
    "tags": []
   },
   "outputs": [],
   "source": [
    "# Data transforms\n",
    "transform_train = transforms.Compose([\n",
    "    transforms.RandomCrop(32, padding=4),\n",
    "    transforms.RandomHorizontalFlip(),\n",
    "    transforms.ToTensor(),\n",
    "    transforms.Normalize((0.5071, 0.4867, 0.4408), (0.2675, 0.2565, 0.2761)),\n",
    "])\n",
    "\n",
    "transform_test = transforms.Compose([\n",
    "    transforms.ToTensor(),\n",
    "    transforms.Normalize((0.5071, 0.4867, 0.4408), (0.2675, 0.2565, 0.2761)),\n",
    "])\n",
    "\n",
    "# Data loaders\n",
    "trainset = torchvision.datasets.CIFAR100(root='./data', train=True, download=True, transform=transform_train)\n",
    "trainloader = torch.utils.data.DataLoader(trainset, batch_size=128, shuffle=True, num_workers=2)\n",
    "\n",
    "testset = torchvision.datasets.CIFAR100(root='./data', train=False, download=True, transform=transform_test)\n",
    "testloader = torch.utils.data.DataLoader(testset, batch_size=100, shuffle=False, num_workers=2)\n",
    "\n",
    "# Calibration loader for PTQ\n",
    "calibrationloader = torch.utils.data.DataLoader(trainset, batch_size=32, shuffle=True, num_workers=2)"
   ]
  },
  {
   "cell_type": "code",
   "execution_count": 3,
   "id": "a1cd9deb",
   "metadata": {
    "execution": {
     "iopub.execute_input": "2025-08-30T06:43:05.184553Z",
     "iopub.status.busy": "2025-08-30T06:43:05.184336Z",
     "iopub.status.idle": "2025-08-30T06:43:05.189561Z",
     "shell.execute_reply": "2025-08-30T06:43:05.189054Z"
    },
    "papermill": {
     "duration": 0.010138,
     "end_time": "2025-08-30T06:43:05.190559",
     "exception": false,
     "start_time": "2025-08-30T06:43:05.180421",
     "status": "completed"
    },
    "tags": []
   },
   "outputs": [],
   "source": [
    "# Add a new argument `num_batches` with a default of None\n",
    "def evaluate_model(model, dataloader, device, num_batches=None):\n",
    "    \"\"\"Evaluates the accuracy of a model on a given dataloader.\"\"\"\n",
    "    model.to(device)\n",
    "    model.eval()\n",
    "    correct = 0\n",
    "    total = 0\n",
    "    count = 0 # <-- Add a counter\n",
    "    with torch.no_grad():\n",
    "        for data in tqdm(dataloader, desc=\"Evaluating\"):\n",
    "            # --- Start of Fix ---\n",
    "            if num_batches and count >= num_batches:\n",
    "                break # <-- Exit loop after enough batches\n",
    "            # --- End of Fix ---\n",
    "            \n",
    "            images, labels = data\n",
    "            images, labels = images.to(device), labels.to(device)\n",
    "            outputs = model(images)\n",
    "            _, predicted = torch.max(outputs.data, 1)\n",
    "            total += labels.size(0)\n",
    "            correct += (predicted == labels).sum().item()\n",
    "            count += 1 # <-- Increment the counter\n",
    "            \n",
    "    accuracy = 100 * correct / total\n",
    "    return accuracy\n",
    "def get_model_size(model):\n",
    "    \"\"\"Saves the model, gets its size, and returns the size in MB.\"\"\"\n",
    "    torch.save(model.state_dict(), \"temp.p\")\n",
    "    size_mb = os.path.getsize(\"temp.p\") / 1e6\n",
    "    os.remove(\"temp.p\")\n",
    "    return size_mb\n",
    "\n",
    "def measure_latency(model, device, dummy_input):\n",
    "    \"\"\"Measures average inference latency of a model over 100 runs.\"\"\"\n",
    "    model.to(device)\n",
    "    dummy_input = dummy_input.to(device)\n",
    "    \n",
    "    # Warm-up runs to stabilize measurements\n",
    "    for _ in range(10):\n",
    "        _ = model(dummy_input)\n",
    "        \n",
    "    # Measure latency\n",
    "    latencies = []\n",
    "    if device.type == 'cuda':\n",
    "        torch.cuda.synchronize()\n",
    "        \n",
    "    for _ in range(100):\n",
    "        start_time = time.time()\n",
    "        _ = model(dummy_input)\n",
    "        if device.type == 'cuda':\n",
    "            torch.cuda.synchronize()\n",
    "        end_time = time.time()\n",
    "        latencies.append((end_time - start_time) * 1000) # Convert to ms\n",
    "        \n",
    "    return np.mean(latencies)"
   ]
  },
  {
   "cell_type": "code",
   "execution_count": 4,
   "id": "ccb72533",
   "metadata": {
    "execution": {
     "iopub.execute_input": "2025-08-30T06:43:05.198589Z",
     "iopub.status.busy": "2025-08-30T06:43:05.198174Z",
     "iopub.status.idle": "2025-08-30T06:43:06.895485Z",
     "shell.execute_reply": "2025-08-30T06:43:06.894797Z"
    },
    "papermill": {
     "duration": 1.703046,
     "end_time": "2025-08-30T06:43:06.897000",
     "exception": false,
     "start_time": "2025-08-30T06:43:05.193954",
     "status": "completed"
    },
    "tags": []
   },
   "outputs": [],
   "source": [
    "import torchvision.models as models\n",
    "from torch.quantization import QuantStub, DeQuantStub\n",
    "\n",
    "# 1. Define a Bottleneck block that is aware of quantization\n",
    "class QuantizableBottleneck(models.resnet.Bottleneck):\n",
    "    def __init__(self, *args, **kwargs):\n",
    "        super().__init__(*args, **kwargs)\n",
    "        # FloatFunctional is used to handle operations like addition for quantized tensors\n",
    "        self.add_relu = torch.ao.nn.quantized.FloatFunctional()\n",
    "\n",
    "    def forward(self, x):\n",
    "        identity = x\n",
    "\n",
    "        out = self.conv1(x)\n",
    "        out = self.bn1(out)\n",
    "        out = self.relu(out)\n",
    "\n",
    "        out = self.conv2(out)\n",
    "        out = self.bn2(out)\n",
    "        out = self.relu(out)\n",
    "\n",
    "        out = self.conv3(out)\n",
    "        out = self.bn3(out)\n",
    "\n",
    "        if self.downsample is not None:\n",
    "            identity = self.downsample(x)\n",
    "\n",
    "        # Use the FloatFunctional for the residual addition\n",
    "        out = self.add_relu.add_relu(out, identity)\n",
    "\n",
    "        return out\n",
    "\n",
    "# 2. Define a ResNet that uses our new Bottleneck block\n",
    "class QuantizableResNet(models.ResNet):\n",
    "    def __init__(self, *args, **kwargs):\n",
    "        # The 'block' argument is the key to using our custom Bottleneck\n",
    "        super().__init__(block=QuantizableBottleneck, *args, **kwargs)\n",
    "        self.quant = QuantStub()\n",
    "        self.dequant = DeQuantStub()\n",
    "\n",
    "    def _forward_impl(self, x):\n",
    "        x = self.quant(x)\n",
    "        # Let the original ResNet forward pass run, which will now use our custom block\n",
    "        x = super()._forward_impl(x)\n",
    "        x = self.dequant(x)\n",
    "        return x\n",
    "    \n",
    "    def forward(self, x):\n",
    "        return self._forward_impl(x)\n",
    "\n",
    "# ... (class definitions are correct) ...\n",
    "\n",
    "# 3. Create a factory function to build and load our model\n",
    "def create_quantizable_resnet50():\n",
    "    # First, create an instance of the standard ResNet50 to get its weights\n",
    "    model_fp32 = models.resnet50(weights=models.ResNet50_Weights.IMAGENET1K_V1)\n",
    "    \n",
    "    # --- Start of Fix ---\n",
    "    # Adapt the SOURCE model's fc layer to match the target number of classes\n",
    "    num_ftrs_source = model_fp32.fc.in_features\n",
    "    model_fp32.fc = nn.Linear(num_ftrs_source, 100)\n",
    "    # --- End of Fix ---\n",
    "\n",
    "    # Create our new quantizable ResNet architecture\n",
    "    model_quantizable = QuantizableResNet(layers=[3, 4, 6, 3], num_classes=100)\n",
    "    \n",
    "    # Now that both models have an fc layer for 100 classes, the weights can be loaded.\n",
    "    # The 'strict=False' is still needed for the custom Bottleneck block.\n",
    "    model_quantizable.load_state_dict(model_fp32.state_dict(), strict=False)\n",
    "        \n",
    "    return model_quantizable\n",
    "\n",
    "# Create the initial FP32 model using our new function\n",
    "fp32_model = create_quantizable_resnet50().to(device)"
   ]
  },
  {
   "cell_type": "code",
   "execution_count": 5,
   "id": "73c365d3",
   "metadata": {
    "execution": {
     "iopub.execute_input": "2025-08-30T06:43:06.906443Z",
     "iopub.status.busy": "2025-08-30T06:43:06.905967Z",
     "iopub.status.idle": "2025-08-30T06:49:30.588950Z",
     "shell.execute_reply": "2025-08-30T06:49:30.587663Z"
    },
    "papermill": {
     "duration": 383.689054,
     "end_time": "2025-08-30T06:49:30.590480",
     "exception": false,
     "start_time": "2025-08-30T06:43:06.901426",
     "status": "completed"
    },
    "tags": []
   },
   "outputs": [
    {
     "name": "stderr",
     "output_type": "stream",
     "text": [
      "Fine-tuning Epoch 1/10: 100%|██████████| 391/391 [00:26<00:00, 14.72it/s]\n"
     ]
    },
    {
     "name": "stdout",
     "output_type": "stream",
     "text": [
      "Epoch 1, Loss: 2.789\n"
     ]
    },
    {
     "name": "stderr",
     "output_type": "stream",
     "text": [
      "Fine-tuning Epoch 2/10: 100%|██████████| 391/391 [00:26<00:00, 14.55it/s]\n"
     ]
    },
    {
     "name": "stdout",
     "output_type": "stream",
     "text": [
      "Epoch 2, Loss: 1.926\n"
     ]
    },
    {
     "name": "stderr",
     "output_type": "stream",
     "text": [
      "Fine-tuning Epoch 3/10: 100%|██████████| 391/391 [00:27<00:00, 14.15it/s]\n"
     ]
    },
    {
     "name": "stdout",
     "output_type": "stream",
     "text": [
      "Epoch 3, Loss: 1.666\n"
     ]
    },
    {
     "name": "stderr",
     "output_type": "stream",
     "text": [
      "Fine-tuning Epoch 4/10: 100%|██████████| 391/391 [00:28<00:00, 13.58it/s]\n"
     ]
    },
    {
     "name": "stdout",
     "output_type": "stream",
     "text": [
      "Epoch 4, Loss: 1.519\n"
     ]
    },
    {
     "name": "stderr",
     "output_type": "stream",
     "text": [
      "Fine-tuning Epoch 5/10: 100%|██████████| 391/391 [00:28<00:00, 13.59it/s]\n"
     ]
    },
    {
     "name": "stdout",
     "output_type": "stream",
     "text": [
      "Epoch 5, Loss: 1.398\n"
     ]
    },
    {
     "name": "stderr",
     "output_type": "stream",
     "text": [
      "Fine-tuning Epoch 6/10: 100%|██████████| 391/391 [00:28<00:00, 13.49it/s]\n"
     ]
    },
    {
     "name": "stdout",
     "output_type": "stream",
     "text": [
      "Epoch 6, Loss: 1.306\n"
     ]
    },
    {
     "name": "stderr",
     "output_type": "stream",
     "text": [
      "Fine-tuning Epoch 7/10: 100%|██████████| 391/391 [00:29<00:00, 13.36it/s]\n"
     ]
    },
    {
     "name": "stdout",
     "output_type": "stream",
     "text": [
      "Epoch 7, Loss: 1.228\n"
     ]
    },
    {
     "name": "stderr",
     "output_type": "stream",
     "text": [
      "Fine-tuning Epoch 8/10: 100%|██████████| 391/391 [00:29<00:00, 13.26it/s]\n"
     ]
    },
    {
     "name": "stdout",
     "output_type": "stream",
     "text": [
      "Epoch 8, Loss: 1.159\n"
     ]
    },
    {
     "name": "stderr",
     "output_type": "stream",
     "text": [
      "Fine-tuning Epoch 9/10: 100%|██████████| 391/391 [00:29<00:00, 13.18it/s]\n"
     ]
    },
    {
     "name": "stdout",
     "output_type": "stream",
     "text": [
      "Epoch 9, Loss: 1.095\n"
     ]
    },
    {
     "name": "stderr",
     "output_type": "stream",
     "text": [
      "Fine-tuning Epoch 10/10: 100%|██████████| 391/391 [00:34<00:00, 11.25it/s]"
     ]
    },
    {
     "name": "stdout",
     "output_type": "stream",
     "text": [
      "Epoch 10, Loss: 1.050\n",
      "Finished Fine-tuning.\n"
     ]
    },
    {
     "name": "stderr",
     "output_type": "stream",
     "text": [
      "\n"
     ]
    }
   ],
   "source": [
    "# Fine-tuning parameters\n",
    "num_epochs_finetune = 10\n",
    "criterion = nn.CrossEntropyLoss()\n",
    "optimizer = optim.SGD(fp32_model.parameters(), lr=0.01, momentum=0.9, weight_decay=5e-4)\n",
    "\n",
    "# Training loop\n",
    "fp32_model.train()\n",
    "for epoch in range(num_epochs_finetune):\n",
    "    running_loss = 0.0\n",
    "    for i, data in enumerate(tqdm(trainloader, desc=f\"Fine-tuning Epoch {epoch+1}/{num_epochs_finetune}\")):\n",
    "        inputs, labels = data\n",
    "        inputs, labels = inputs.to(device), labels.to(device)\n",
    "        optimizer.zero_grad()\n",
    "        outputs = fp32_model(inputs)\n",
    "        loss = criterion(outputs, labels)\n",
    "        loss.backward()\n",
    "        optimizer.step()\n",
    "        running_loss += loss.item()\n",
    "    print(f\"Epoch {epoch+1}, Loss: {running_loss / len(trainloader):.3f}\")\n",
    "\n",
    "print(\"Finished Fine-tuning.\")\n",
    "torch.save(fp32_model.state_dict(), \"resnet50_cifar100_fp32.pth\")"
   ]
  },
  {
   "cell_type": "code",
   "execution_count": 6,
   "id": "79cdc8d2",
   "metadata": {
    "execution": {
     "iopub.execute_input": "2025-08-30T06:49:30.760598Z",
     "iopub.status.busy": "2025-08-30T06:49:30.759772Z",
     "iopub.status.idle": "2025-08-30T06:49:57.260247Z",
     "shell.execute_reply": "2025-08-30T06:49:57.259031Z"
    },
    "papermill": {
     "duration": 26.585478,
     "end_time": "2025-08-30T06:49:57.261507",
     "exception": true,
     "start_time": "2025-08-30T06:49:30.676029",
     "status": "failed"
    },
    "tags": []
   },
   "outputs": [
    {
     "name": "stderr",
     "output_type": "stream",
     "text": [
      "C:\\Users\\VICTUS\\AppData\\Local\\Temp\\ipykernel_18280\\458163898.py:10: DeprecationWarning: torch.ao.quantization is deprecated and will be removed in 2.10. \n",
      "For migrations of users: \n",
      "1. Eager mode quantization (torch.ao.quantization.quantize, torch.ao.quantization.quantize_dynamic), please migrate to use torchao eager mode quantize_ API instead \n",
      "2. FX graph mode quantization (torch.ao.quantization.quantize_fx.prepare_fx,torch.ao.quantization.quantize_fx.convert_fx, please migrate to use torchao pt2e quantization API instead (prepare_pt2e, convert_pt2e) \n",
      "3. pt2e quantization has been migrated to torchao (https://github.com/pytorch/ao/tree/main/torchao/quantization/pt2e) \n",
      "see https://github.com/pytorch/ao/issues/2259 for more details\n",
      "  prepare(ptq_model, inplace=True)\n"
     ]
    },
    {
     "name": "stdout",
     "output_type": "stream",
     "text": [
      "Model prepared for PTQ.\n",
      "Calibrating model...\n"
     ]
    },
    {
     "name": "stderr",
     "output_type": "stream",
     "text": [
      "Evaluating:  13%|█▎        | 200/1563 [00:46<05:20,  4.26it/s]\n",
      "C:\\Users\\VICTUS\\AppData\\Local\\Temp\\ipykernel_18280\\458163898.py:20: DeprecationWarning: torch.ao.quantization is deprecated and will be removed in 2.10. \n",
      "For migrations of users: \n",
      "1. Eager mode quantization (torch.ao.quantization.quantize, torch.ao.quantization.quantize_dynamic), please migrate to use torchao eager mode quantize_ API instead \n",
      "2. FX graph mode quantization (torch.ao.quantization.quantize_fx.prepare_fx,torch.ao.quantization.quantize_fx.convert_fx, please migrate to use torchao pt2e quantization API instead (prepare_pt2e, convert_pt2e) \n",
      "3. pt2e quantization has been migrated to torchao (https://github.com/pytorch/ao/tree/main/torchao/quantization/pt2e) \n",
      "see https://github.com/pytorch/ao/issues/2259 for more details\n",
      "  int8_model_ptq = convert(ptq_model)\n"
     ]
    },
    {
     "name": "stdout",
     "output_type": "stream",
     "text": [
      "Calibration complete.\n",
      "Model converted to INT8.\n"
     ]
    }
   ],
   "source": [
    "# Create a copy for quantization\n",
    "ptq_model = create_quantizable_resnet50()\n",
    "ptq_model.load_state_dict(torch.load(\"resnet50_cifar100_fp32.pth\"))\n",
    "ptq_model.to(\"cpu\") # Quantization is a CPU-centric operation\n",
    "ptq_model.eval()\n",
    "\n",
    "# 1. Prepare the model with observers\n",
    "# Note: Module fusion is not needed for the standard model\n",
    "ptq_model.qconfig = get_default_qconfig('qnnpack')\n",
    "prepare(ptq_model, inplace=True)\n",
    "print(\"Model prepared for PTQ.\")\n",
    "\n",
    "# 2. Calibrate the model\n",
    "print(\"Calibrating model...\")\n",
    "# Pass the num_batches argument to limit calibration to 200 batches\n",
    "evaluate_model(ptq_model, calibrationloader, torch.device(\"cpu\"), num_batches=200)\n",
    "print(\"Calibration complete.\")\n",
    "\n",
    "# 3. Convert to a quantized model\n",
    "int8_model_ptq = convert(ptq_model)\n",
    "print(\"Model converted to INT8.\")\n",
    "del ptq_model"
   ]
  },
  {
   "cell_type": "code",
   "execution_count": 7,
   "id": "9604d8b8",
   "metadata": {
    "papermill": {
     "duration": null,
     "end_time": null,
     "exception": null,
     "start_time": null,
     "status": "pending"
    },
    "tags": []
   },
   "outputs": [
    {
     "name": "stdout",
     "output_type": "stream",
     "text": [
      "Evaluating FP32 model accuracy on GPU...\n"
     ]
    },
    {
     "name": "stderr",
     "output_type": "stream",
     "text": [
      "Evaluating: 100%|██████████| 100/100 [00:10<00:00,  9.80it/s]\n"
     ]
    },
    {
     "name": "stdout",
     "output_type": "stream",
     "text": [
      "\n",
      "Evaluating INT8 PTQ model accuracy on CPU...\n"
     ]
    },
    {
     "name": "stderr",
     "output_type": "stream",
     "text": [
      "Evaluating: 100%|██████████| 100/100 [00:17<00:00,  5.86it/s]\n"
     ]
    },
    {
     "name": "stdout",
     "output_type": "stream",
     "text": [
      "\n",
      "Measuring model sizes...\n",
      "\n",
      "Measuring latencies...\n",
      "\n",
      "--- Model Comparison ---\n",
      "FP32 Model Accuracy: 59.22%\n",
      "INT8 PTQ Model Accuracy: 56.63%\n",
      "-------------------------\n",
      "FP32 Model Size: 95.15 MB\n",
      "INT8 PTQ Model Size: 24.24 MB\n",
      "-------------------------\n",
      "FP32 (GPU) Avg. Latency: 14.10 ms\n",
      "INT8 (CPU) Avg. Latency: 79.55 ms\n",
      "-------------------------\n"
     ]
    },
    {
     "data": {
      "image/png": "[encoded data removed]",
      "text/plain": [
       "<Figure size 1800x500 with 3 Axes>"
      ]
     },
     "metadata": {},
     "output_type": "display_data"
    }
   ],
   "source": [
    "# --- Step 1: Define Devices ---\n",
    "gpu_device = torch.device(\"cuda:0\")\n",
    "cpu_device = torch.device(\"cpu\")\n",
    "\n",
    "# --- Step 2: Evaluate Accuracy ---\n",
    "print(\"Evaluating FP32 model accuracy on GPU...\")\n",
    "fp32_model.to(gpu_device).eval()\n",
    "fp32_accuracy = evaluate_model(fp32_model, testloader, gpu_device)\n",
    "\n",
    "print(\"\\nEvaluating INT8 PTQ model accuracy on CPU...\")\n",
    "int8_model_ptq.to(cpu_device).eval()\n",
    "int8_ptq_accuracy = evaluate_model(int8_model_ptq, testloader, cpu_device)\n",
    "\n",
    "# --- Step 3: Measure Model Size ---\n",
    "print(\"\\nMeasuring model sizes...\")\n",
    "fp32_size = get_model_size(fp32_model.to(cpu_device))\n",
    "int8_size = get_model_size(int8_model_ptq)\n",
    "\n",
    "# --- Step 4: Measure Latency ---\n",
    "print(\"\\nMeasuring latencies...\")\n",
    "dummy_input, _ = next(iter(testloader))\n",
    "fp32_latency = measure_latency(fp32_model, gpu_device, dummy_input)\n",
    "int8_latency = measure_latency(int8_model_ptq, cpu_device, dummy_input)\n",
    "\n",
    "# --- Step 5: Print Summary ---\n",
    "print(\"\\n--- Model Comparison ---\")\n",
    "print(f\"FP32 Model Accuracy: {fp32_accuracy:.2f}%\")\n",
    "print(f\"INT8 PTQ Model Accuracy: {int8_ptq_accuracy:.2f}%\")\n",
    "print(\"-\" * 25)\n",
    "print(f\"FP32 Model Size: {fp32_size:.2f} MB\")\n",
    "print(f\"INT8 PTQ Model Size: {int8_size:.2f} MB\")\n",
    "print(\"-\" * 25)\n",
    "print(f\"FP32 (GPU) Avg. Latency: {fp32_latency:.2f} ms\")\n",
    "print(f\"INT8 (CPU) Avg. Latency: {int8_latency:.2f} ms\")\n",
    "print(\"-\" * 25)\n",
    "\n",
    "# --- Step 6: Plotting the Results ---\n",
    "labels = ['FP32 (GPU)', 'INT8 (CPU)']\n",
    "accuracies = [fp32_accuracy, int8_ptq_accuracy]\n",
    "sizes = [fp32_size, int8_size]\n",
    "latencies = [fp32_latency, int8_latency]\n",
    "\n",
    "fig, (ax1, ax2, ax3) = plt.subplots(1, 3, figsize=(18, 5))\n",
    "fig.suptitle('FP32 vs. INT8 Quantization Comparison', fontsize=16)\n",
    "\n",
    "# Plot Accuracy\n",
    "bars1 = ax1.bar(labels, accuracies, color=['#1f77b4', '#ff7f0e'])\n",
    "ax1.set_ylabel('Accuracy (%)')\n",
    "ax1.set_title('Model Accuracy')\n",
    "ax1.set_ylim(0, max(accuracies) * 1.2)\n",
    "for bar in bars1:\n",
    "    yval = bar.get_height()\n",
    "    ax1.text(bar.get_x() + bar.get_width()/2.0, yval + 1, f'{yval:.2f}%', ha='center', va='bottom')\n",
    "\n",
    "# Plot Model Size\n",
    "bars2 = ax2.bar(labels, sizes, color=['#1f77b4', '#ff7f0e'])\n",
    "ax2.set_ylabel('Size (MB)')\n",
    "ax2.set_title('Model Size')\n",
    "ax2.set_ylim(0, max(sizes) * 1.2)\n",
    "for bar in bars2:\n",
    "    yval = bar.get_height()\n",
    "    ax2.text(bar.get_x() + bar.get_width()/2.0, yval + 2, f'{yval:.2f} MB', ha='center', va='bottom')\n",
    "\n",
    "# Plot Latency\n",
    "bars3 = ax3.bar(labels, latencies, color=['#1f77b4', '#ff7f0e'])\n",
    "ax3.set_ylabel('Latency (ms)')\n",
    "ax3.set_title('Inference Latency (per batch)')\n",
    "ax3.set_ylim(0, max(latencies) * 1.2)\n",
    "for bar in bars3:\n",
    "    yval = bar.get_height()\n",
    "    ax3.text(bar.get_x() + bar.get_width()/2.0, yval + 1, f'{yval:.2f} ms', ha='center', va='bottom')\n",
    "\n",
    "plt.tight_layout(rect=[0, 0, 1, 0.96])\n",
    "plt.show()"
   ]
  }
 ],
 "metadata": {
  "kaggle": {
   "accelerator": "gpu",
   "dataSources": [],
   "isGpuEnabled": true,
   "isInternetEnabled": true,
   "language": "python",
   "sourceType": "notebook"
  },
  "kernelspec": {
   "display_name": "base",
   "language": "python",
   "name": "python3"
  },
  "language_info": {
   "codemirror_mode": {
    "name": "ipython",
    "version": 3
   },
   "file_extension": ".py",
   "mimetype": "text/x-python",
   "name": "python",
   "nbconvert_exporter": "python",
   "pygments_lexer": "ipython3",
   "version": "3.12.7"
  },
  "papermill": {
   "default_parameters": {},
   "duration": 436.416706,
   "end_time": "2025-08-30T06:49:59.948838",
   "environment_variables": {},
   "exception": true,
   "input_path": "__notebook__.ipynb",
   "output_path": "__notebook__.ipynb",
   "parameters": {},
   "start_time": "2025-08-30T06:42:43.532132",
   "version": "2.6.0"
  }
 },
 "nbformat": 4,
 "nbformat_minor": 5
}
