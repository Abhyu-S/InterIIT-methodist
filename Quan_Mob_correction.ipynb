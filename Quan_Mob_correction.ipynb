{
 "cells": [
  {
   "cell_type": "code",
   "execution_count": 1,
   "id": "e90fc409",
   "metadata": {},
   "outputs": [
    {
     "name": "stdout",
     "output_type": "stream",
     "text": [
      "Using device: cuda\n"
     ]
    }
   ],
   "source": [
    "import os\n",
    "os.environ[\"KMP_DUPLICATE_LIB_OK\"]=\"TRUE\"\n",
    "\n",
    "import torch\n",
    "import torch.nn as nn\n",
    "import torch.optim as optim\n",
    "import torchvision\n",
    "import torchvision.transforms as transforms\n",
    "import torch.quantization\n",
    "import time\n",
    "import numpy as np\n",
    "import matplotlib.pyplot as plt\n",
    "import copy\n",
    "\n",
    "# For reproducibility\n",
    "torch.manual_seed(1910)\n",
    "\n",
    "# Set number of epochs\n",
    "NUM_EPOCHS = 10\n",
    "device = torch.device(\"cuda\" if torch.cuda.is_available() else \"cpu\")\n",
    "print(f\"Using device: {device}\")"
   ]
  },
  {
   "cell_type": "code",
   "execution_count": 2,
   "id": "caf7116e",
   "metadata": {},
   "outputs": [
    {
     "name": "stdout",
     "output_type": "stream",
     "text": [
      "Files already downloaded and verified\n",
      "Files already downloaded and verified\n",
      "CIFAR-10 dataset loaded.\n"
     ]
    }
   ],
   "source": [
    "transform = transforms.Compose([\n",
    "    transforms.Resize((224, 224)),\n",
    "    transforms.ToTensor(),\n",
    "    transforms.Normalize(mean=[0.485, 0.456, 0.406], std=[0.229, 0.224, 0.225]),\n",
    "])\n",
    "\n",
    "trainset = torchvision.datasets.CIFAR10(root='./data', train=True, download=True, transform=transform)\n",
    "trainloader = torch.utils.data.DataLoader(trainset, batch_size=32, shuffle=True, num_workers=2)\n",
    "\n",
    "testset = torchvision.datasets.CIFAR10(root='./data', train=False, download=True, transform=transform)\n",
    "testloader = torch.utils.data.DataLoader(testset, batch_size=32, shuffle=False, num_workers=2)\n",
    "\n",
    "print(\"CIFAR-10 dataset loaded.\")"
   ]
  },
  {
   "cell_type": "code",
   "execution_count": 3,
   "id": "a6f4d5e6",
   "metadata": {},
   "outputs": [
    {
     "name": "stdout",
     "output_type": "stream",
     "text": [
      "Quantizable model created and skip connections fixed.\n"
     ]
    }
   ],
   "source": [
    "class QuantizableModel(nn.Module):\n",
    "    def __init__(self, model_fp32):\n",
    "        super().__init__()\n",
    "        self.quant = torch.quantization.QuantStub()\n",
    "        self.model_fp32 = model_fp32\n",
    "        self.dequant = torch.quantization.DeQuantStub()\n",
    "\n",
    "    def forward(self, x):\n",
    "        x = self.quant(x)\n",
    "        x = self.model_fp32(x)\n",
    "        x = self.dequant(x)\n",
    "        return x\n",
    "\n",
    "# Create the standard floating-point model\n",
    "float_model = torchvision.models.mobilenet_v2(weights='IMAGENET1K_V1')\n",
    "num_features = float_model.classifier[1].in_features\n",
    "float_model.classifier = nn.Linear(num_features, 10)\n",
    "\n",
    "# Fix for residual connections to make it quantizable\n",
    "for module in float_model.modules():\n",
    "    if isinstance(module, torchvision.models.mobilenetv2.InvertedResidual):\n",
    "        module.skip_add = nn.quantized.FloatFunctional()\n",
    "        def new_forward(self, x):\n",
    "            if self.use_res_connect:\n",
    "                return self.skip_add.add(x, self.conv(x))\n",
    "            else:\n",
    "                return self.conv(x)\n",
    "        module.forward = new_forward.__get__(module, type(module))\n",
    "\n",
    "# Wrap the model for the quantization process\n",
    "quantizable_model = QuantizableModel(model_fp32=float_model)\n",
    "print(\"Quantizable model created and skip connections fixed.\")"
   ]
  },
  {
   "cell_type": "code",
   "execution_count": 4,
   "id": "7a26c710",
   "metadata": {},
   "outputs": [
    {
     "name": "stdout",
     "output_type": "stream",
     "text": [
      "--- Training Baseline Float Model ---\n",
      "\n",
      "Starting training for 10 epochs on cuda...\n",
      "Epoch [1/10] Loss: 0.411\n",
      "Epoch [2/10] Loss: 0.180\n",
      "Epoch [3/10] Loss: 0.117\n",
      "Epoch [4/10] Loss: 0.077\n",
      "Epoch [5/10] Loss: 0.053\n",
      "Epoch [6/10] Loss: 0.038\n",
      "Epoch [7/10] Loss: 0.031\n",
      "Epoch [8/10] Loss: 0.025\n",
      "Epoch [9/10] Loss: 0.019\n",
      "Epoch [10/10] Loss: 0.015\n",
      "Training complete.\n"
     ]
    }
   ],
   "source": [
    "# General-purpose training function\n",
    "def train_model(model, trainloader, criterion, optimizer, num_epochs=10):\n",
    "    print(f\"\\nStarting training for {num_epochs} epochs on {device}...\")\n",
    "    for epoch in range(num_epochs):\n",
    "        model.train()\n",
    "        running_loss = 0.0\n",
    "        for images, labels in trainloader:\n",
    "            images, labels = images.to(device), labels.to(device)\n",
    "            optimizer.zero_grad()\n",
    "            outputs = model(images)\n",
    "            loss = criterion(outputs, labels)\n",
    "            loss.backward()\n",
    "            optimizer.step()\n",
    "            running_loss += loss.item()\n",
    "        print(f\"Epoch [{epoch+1}/{num_epochs}] Loss: {running_loss/len(trainloader):.3f}\")\n",
    "    print(\"Training complete.\")\n",
    "    return model\n",
    "\n",
    "# Create a deep copy of the float model to train as a baseline\n",
    "baseline_float_model = copy.deepcopy(float_model)\n",
    "baseline_float_model.to(device)\n",
    "\n",
    "# Define criterion and optimizer for the baseline model\n",
    "criterion = nn.CrossEntropyLoss()\n",
    "optimizer = optim.SGD(baseline_float_model.parameters(), lr=0.001, momentum=0.9)\n",
    "\n",
    "# Train the baseline float model\n",
    "print(\"--- Training Baseline Float Model ---\")\n",
    "trained_float_model = train_model(baseline_float_model, trainloader, criterion, optimizer, num_epochs=NUM_EPOCHS)"
   ]
  },
  {
   "cell_type": "code",
   "execution_count": null,
   "id": "29c32579",
   "metadata": {},
   "outputs": [
    {
     "name": "stderr",
     "output_type": "stream",
     "text": [
      "c:\\Users\\VICTUS\\anaconda3\\Lib\\site-packages\\torch\\ao\\quantization\\observer.py:229: UserWarning: Please use quant_min and quant_max to specify the range for observers.                     reduce_range will be deprecated in a future release of PyTorch.\n",
      "  warnings.warn(\n"
     ]
    },
    {
     "name": "stdout",
     "output_type": "stream",
     "text": [
      "\n",
      "Model prepared for QAT.\n"
     ]
    }
   ],
   "source": [
    "quantizable_model.qconfig = torch.quantization.get_default_qat_qconfig('fbgemm') # qnnpack\n",
    "qat_model = torch.quantization.prepare_qat(quantizable_model.train())\n",
    "print(\"\\nModel prepared for QAT.\")"
   ]
  },
  {
   "cell_type": "code",
   "execution_count": 6,
   "id": "5e3e4248",
   "metadata": {},
   "outputs": [
    {
     "name": "stdout",
     "output_type": "stream",
     "text": [
      "\n",
      "--- Training QAT Model ---\n",
      "\n",
      "Starting training for 10 epochs on cuda...\n",
      "Epoch [1/10] Loss: 0.759\n",
      "Epoch [2/10] Loss: 0.339\n",
      "Epoch [3/10] Loss: 0.269\n",
      "Epoch [4/10] Loss: 0.225\n",
      "Epoch [5/10] Loss: 0.197\n",
      "Epoch [6/10] Loss: 0.173\n",
      "Epoch [7/10] Loss: 0.149\n",
      "Epoch [8/10] Loss: 0.131\n",
      "Epoch [9/10] Loss: 0.114\n",
      "Epoch [10/10] Loss: 0.100\n",
      "Training complete.\n"
     ]
    }
   ],
   "source": [
    "# Re-define optimizer for the QAT model\n",
    "qat_model.to(device)\n",
    "criterion = nn.CrossEntropyLoss()\n",
    "optimizer = optim.SGD(qat_model.parameters(), lr=0.001, momentum=0.9)\n",
    "\n",
    "# Use the same training function for QAT\n",
    "print(\"\\n--- Training QAT Model ---\")\n",
    "qat_model = train_model(qat_model, trainloader, criterion, optimizer, num_epochs=NUM_EPOCHS)"
   ]
  },
  {
   "cell_type": "code",
   "execution_count": 7,
   "id": "988c9354",
   "metadata": {},
   "outputs": [
    {
     "name": "stdout",
     "output_type": "stream",
     "text": [
      "\n",
      "Model successfully converted to a final integer model.\n"
     ]
    },
    {
     "name": "stderr",
     "output_type": "stream",
     "text": [
      "c:\\Users\\VICTUS\\anaconda3\\Lib\\site-packages\\torch\\ao\\quantization\\utils.py:407: UserWarning: must run observer before calling calculate_qparams. Returning default values.\n",
      "  warnings.warn(\n"
     ]
    }
   ],
   "source": [
    "qat_model.to('cpu')\n",
    "quantized_integer_model = torch.quantization.convert(qat_model.eval())\n",
    "print(\"\\nModel successfully converted to a final integer model.\")"
   ]
  },
  {
   "cell_type": "code",
   "execution_count": 8,
   "id": "a6a3f7d2",
   "metadata": {},
   "outputs": [
    {
     "name": "stdout",
     "output_type": "stream",
     "text": [
      "\n",
      "--- Evaluating Performance ---\n",
      "\n",
      "Baseline Float Model  -> Accuracy: 95.13%, Latency: 14.0685 ms/image, Size: 9.17 MB\n",
      "Quantized Int Model   -> Accuracy: 94.05%, Latency: 7.2788 ms/image, Size: 2.94 MB\n"
     ]
    }
   ],
   "source": [
    "# Helper function to get model size\n",
    "def get_model_size_mb(model):\n",
    "    torch.save(model.state_dict(), \"temp.p\")\n",
    "    size_mb = os.path.getsize(\"temp.p\")/1e6\n",
    "    os.remove(\"temp.p\")\n",
    "    return size_mb\n",
    "\n",
    "# Helper function to evaluate accuracy and latency\n",
    "def evaluate_model(model, data_loader, device):\n",
    "    model.to(device)\n",
    "    model.eval()\n",
    "    correct = 0\n",
    "    total = 0\n",
    "    start_time = time.time()\n",
    "    if device == 'cuda':\n",
    "        torch.cuda.synchronize()\n",
    "\n",
    "    with torch.no_grad():\n",
    "        for images, labels in data_loader:\n",
    "            images, labels = images.to(device), labels.to(device)\n",
    "            outputs = model(images)\n",
    "            _, predicted = torch.max(outputs.data, 1)\n",
    "            total += labels.size(0)\n",
    "            correct += (predicted == labels).sum().item()\n",
    "\n",
    "    if device == 'cuda':\n",
    "        torch.cuda.synchronize()\n",
    "    end_time = time.time()\n",
    "\n",
    "    total_time = end_time - start_time\n",
    "    # Calculate latency per image for a more stable metric\n",
    "    avg_latency_ms = (total_time / len(data_loader.dataset)) * 1000\n",
    "    accuracy = 100 * correct / total\n",
    "    return accuracy, avg_latency_ms\n",
    "\n",
    "# --- Run Evaluations ---\n",
    "print(\"\\n--- Evaluating Performance ---\")\n",
    "# Quantized integer models must run on CPU\n",
    "quant_accuracy, quant_latency = evaluate_model(quantized_integer_model, testloader, device='cpu')\n",
    "quant_size = get_model_size_mb(quantized_integer_model)\n",
    "\n",
    "# Evaluate the FAIR baseline float model on CPU for a direct latency comparison\n",
    "float_accuracy, float_latency = evaluate_model(trained_float_model, testloader, device='cpu')\n",
    "float_size = get_model_size_mb(trained_float_model)\n",
    "\n",
    "print(f\"\\nBaseline Float Model  -> Accuracy: {float_accuracy:.2f}%, Latency: {float_latency:.4f} ms/image, Size: {float_size:.2f} MB\")\n",
    "print(f\"Quantized Int Model   -> Accuracy: {quant_accuracy:.2f}%, Latency: {quant_latency:.4f} ms/image, Size: {quant_size:.2f} MB\")"
   ]
  },
  {
   "cell_type": "code",
   "execution_count": 9,
   "id": "008ee738",
   "metadata": {},
   "outputs": [
    {
     "data": {
      "image/png": "[encoded data removed]",
      "text/plain": [
       "<Figure size 1000x600 with 1 Axes>"
      ]
     },
     "metadata": {},
     "output_type": "display_data"
    }
   ],
   "source": [
    "labels = ['Accuracy (%)', 'Latency (ms/image)', 'Size (MB)']\n",
    "quant_metrics = [quant_accuracy, quant_latency, quant_size]\n",
    "float_metrics = [float_accuracy, float_latency, float_size]\n",
    "\n",
    "x = np.arange(len(labels))\n",
    "width = 0.35\n",
    "\n",
    "fig, ax = plt.subplots(figsize=(10, 6))\n",
    "rects1 = ax.bar(x - width/2, float_metrics, width, label='Float Model', color='royalblue')\n",
    "rects2 = ax.bar(x + width/2, quant_metrics, width, label='Quantized Model', color='seagreen')\n",
    "\n",
    "# Add text for labels, title and axes ticks\n",
    "ax.set_ylabel('Scores')\n",
    "ax.set_title('Float vs. Quantized Model Performance (Fair Comparison)')\n",
    "ax.set_xticks(x)\n",
    "ax.set_xticklabels(labels)\n",
    "ax.legend()\n",
    "\n",
    "ax.bar_label(rects1, padding=3, fmt='%.2f')\n",
    "ax.bar_label(rects2, padding=3, fmt='%.2f')\n",
    "\n",
    "fig.tight_layout()\n",
    "plt.grid(axis='y', linestyle='--', alpha=0.7)\n",
    "plt.show()"
   ]
  }
 ],
 "metadata": {
  "kernelspec": {
   "display_name": "base",
   "language": "python",
   "name": "python3"
  },
  "language_info": {
   "codemirror_mode": {
    "name": "ipython",
    "version": 3
   },
   "file_extension": ".py",
   "mimetype": "text/x-python",
   "name": "python",
   "nbconvert_exporter": "python",
   "pygments_lexer": "ipython3",
   "version": "3.12.7"
  }
 },
 "nbformat": 4,
 "nbformat_minor": 5
}
